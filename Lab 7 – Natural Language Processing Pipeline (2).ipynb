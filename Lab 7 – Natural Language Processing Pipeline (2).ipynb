{
 "cells": [
  {
   "cell_type": "markdown",
   "id": "3c51295d",
   "metadata": {},
   "source": [
    "**In this assignment, you'll get to practice the concepts and skills covered in the course so far. The main objective of this assignment is to implement and use some of the tools, algorithms, and techniques to perform natural language processing on textual data.**\n",
    "\n",
    "\n",
    "\n",
    "**Guidelines**\n",
    "* Download `movies_metadata.csv` file from D2L. \n",
    "* Make sure to run all the code cells, otherwise you may get errors like `NameError` for undefined variables.\n",
    "* Do not change variable names, delete cells or disturb other existing code. It may cause problems during evaluation.\n",
    "* In some cases, you may need to add some code cells or new statements before or after the line of code containing the `???`.\n",
    "* Use markdown cells to write your discussions and reflections. \n",
    "\n",
    "**Procedure**\n",
    "* Save your work as `IPYNB` file named `Lab7.ipynb` and submit to D2L `Lab 7 – Natural Language Processing Pipeline (Dropbox)` by the due date.\n",
    "* As you go through this notebook, you will find the symbol `???` in certain places. To complete this assignment, you must replace all the `???` with appropriate values, expressions or statements to ensure that the notebook runs properly end-to-end.\n",
    "* Include your response for `Part 1` and `Part 2` in this notebook. \n",
    "\n",
    "### Read the content of the `movies_metadata.csv` into a dataframe called `movies_df`. Then, use this dataframe to answer parts 1, 2, 3, and 4.\n",
    "<hr style=\"border:1px solid orange\"> </hr>"
   ]
  },
  {
   "cell_type": "markdown",
   "id": "da9c4970",
   "metadata": {},
   "source": [
    "<div class=\"alert alert-block alert-info\">\n",
    "\n",
    "# Part 1: Text Cleaning and Representation  \n",
    "\n",
    "</div>\n",
    "\n",
    "1. Perform the following steps on the `overview` column.\n",
    "    \n",
    "    A. Join the text in the `overview` column into a single string and call it `overviews`. \n",
    "    \n",
    "    B. Tokenize the `overviews` string into individual words or individual tokens and store the result into a variable called `overview_tokens`. Make sure to ignore the punctuation characters. \n",
    "    \n",
    "    C. Remove the stopwords from the `overviews` variable and store the results in a variable called `no_stop_overviews`\n",
    "\n",
    "\n",
    "2. Perform the following steps on the `no_stop_overviews` variable \n",
    "    \n",
    "    A. Perform stemming on the words in `no_stop_overviews` and store the results into a list called `stemmed_words`. \n",
    "    \n",
    "    B. Find the top `20` most common words from the `stemmed_words` and store them into a list called `top_20_stemmed_words`.\n",
    "    \n",
    "    C. Perform lemmatizations on the words in `no_stop_overviews` and store the results into a list called `lemmatized_words`. \n",
    "    \n",
    "    D. Find the top `20` most common words from the `lemmatized_words` and store them into a list called `top_20_lemmatized_words`.\n",
    "\n",
    "3. Perform a `TF/IDF` on the `overview` field to get the TF/IDF score for all individual words. Make sure to remove the punctuation characters.  "
   ]
  },
  {
   "cell_type": "code",
   "execution_count": null,
   "id": "64786f5e",
   "metadata": {},
   "outputs": [],
   "source": [
    "# 1.1.A. Join the text in the overview column into a single string and call it overviews.\n",
    "\n",
    "???"
   ]
  },
  {
   "cell_type": "code",
   "execution_count": null,
   "id": "fe95d2a3",
   "metadata": {},
   "outputs": [],
   "source": [
    "# 1.1.B. Tokenize the overviews string into individual words or individual tokens and store the result into a variable called overview_tokens. Make sure to ignore the punctuation characters.\n",
    "\n",
    "???"
   ]
  },
  {
   "cell_type": "code",
   "execution_count": null,
   "id": "a30016f9",
   "metadata": {},
   "outputs": [],
   "source": [
    "# 1.1.C. Remove the stopwords from the overviews variable and store the results in a variable called no_stop_overviews \n",
    "\n",
    "???"
   ]
  },
  {
   "cell_type": "code",
   "execution_count": null,
   "id": "ca697b41",
   "metadata": {},
   "outputs": [],
   "source": [
    "# 1.2.A. Perform stemming on the words in no_stop_overviews and store the results into a list called stemmed_words.\n",
    "\n",
    "???"
   ]
  },
  {
   "cell_type": "code",
   "execution_count": null,
   "id": "ff2cd8e3",
   "metadata": {},
   "outputs": [],
   "source": [
    "# 1.2.B. Find the top 20 most common words from the stemmed_words and store them into a list called top_20_stemmed_words.\n",
    "\n",
    "???"
   ]
  },
  {
   "cell_type": "code",
   "execution_count": null,
   "id": "20b168b8",
   "metadata": {},
   "outputs": [],
   "source": [
    "# 1.2.C. Perform lemmatizations on the words in no_stop_overviews and store the results into a list called lemmatized_words.\n",
    "\n",
    "???"
   ]
  },
  {
   "cell_type": "code",
   "execution_count": null,
   "id": "093674da",
   "metadata": {},
   "outputs": [],
   "source": [
    "# 1.2.D. Find the top 20 most common words from the lemmatized_words and store them into a list called top_20_lemmatized_words.\n",
    "\n",
    "???"
   ]
  },
  {
   "cell_type": "code",
   "execution_count": null,
   "id": "d09d65fe",
   "metadata": {},
   "outputs": [],
   "source": [
    "# 1.3. Perform a TF/IDF on the overview field to get the TF/IDF score for all individual words. Make sure to remove the punctuation characters.\n",
    "\n",
    "???"
   ]
  },
  {
   "cell_type": "code",
   "execution_count": null,
   "id": "5dc2b0a1",
   "metadata": {},
   "outputs": [],
   "source": [
    "???"
   ]
  },
  {
   "cell_type": "markdown",
   "id": "63ceb947",
   "metadata": {},
   "source": [
    "<div class=\"alert alert-block alert-info\">\n",
    "\n",
    "# Part 2: Named Entity Recognition\n",
    "\n",
    "</div>\n",
    "\n",
    "1. Perfrom a Named Entity Recognition (NER) on the `overview` column of the `movies_df`"
   ]
  },
  {
   "cell_type": "code",
   "execution_count": null,
   "id": "df19eca1",
   "metadata": {},
   "outputs": [],
   "source": [
    "# 2.1. Perfrom a Named Entity Recognition (NER) on the overview column of the movies_df\n",
    "\n",
    "???"
   ]
  },
  {
   "cell_type": "markdown",
   "id": "542356c0",
   "metadata": {},
   "source": [
    "<div class=\"alert alert-block alert-info\">\n",
    "\n",
    "# Part 3: Topic Modeling \n",
    "\n",
    "</div>\n",
    "\n",
    "1. Find and print the top `10` related movies to a movie that include in its overview the following words: \n",
    "\n",
    "> *\\['birthday', 'monster', 'music'\\]*. \n",
    "\n",
    "2. Find or discover `15` abstract \"topics\" that occur in the collection of movies overviews. Then, print the top `10` words for each topic."
   ]
  },
  {
   "cell_type": "code",
   "execution_count": null,
   "id": "65a7b44a",
   "metadata": {},
   "outputs": [],
   "source": [
    "# 3.1. Find and print the top 10 related movies to a movie that include in its overview the following words:\n",
    "# ['birthday', 'monster', 'music'].\n",
    "\n",
    "???"
   ]
  },
  {
   "cell_type": "code",
   "execution_count": null,
   "id": "ea8a6d72",
   "metadata": {},
   "outputs": [],
   "source": [
    "# 3.2. Find or discover 15 abstract \"topics\" that occur in the collection of movies overviews. Then, print the top 10 words for each topic.\n",
    "\n",
    "???"
   ]
  },
  {
   "cell_type": "markdown",
   "id": "ec715104",
   "metadata": {},
   "source": [
    "<div class=\"alert alert-block alert-info\">\n",
    "\n",
    "# Part 4: Sentiment Analysis\n",
    "\n",
    "</div>\n",
    "\n",
    "1. Perform sentiment analysis on the `overview` column of the `movies_df` to determine whether the overview is positive, negative or neutral."
   ]
  },
  {
   "cell_type": "code",
   "execution_count": null,
   "id": "c0befcab",
   "metadata": {},
   "outputs": [],
   "source": [
    "# 4.1. Perform sentiment analysis on the overview column of the movies_df to determine whether the overview is positive, negative or neutral.\n",
    "\n",
    "???"
   ]
  },
  {
   "cell_type": "markdown",
   "id": "d00f456c",
   "metadata": {},
   "source": [
    "<div class=\"alert alert-block alert-info\">\n",
    "\n",
    "# Part 5: Reflection\n",
    "    \n",
    "</div>\n",
    "\n",
    "As a second step—after answering the questions, include the following:\n",
    "1. A reflection of your experience performing the activity. \n",
    "2. A reflection on the importance of learning this activity.\n",
    "**Note:** include your reflection in this notebook as markdown cells. "
   ]
  },
  {
   "cell_type": "markdown",
   "id": "fca55abe",
   "metadata": {},
   "source": [
    "???"
   ]
  },
  {
   "cell_type": "markdown",
   "id": "c5e5d27f",
   "metadata": {},
   "source": [
    "<div class=\"alert alert-block alert-info\">\n",
    "\n",
    "# Submission\n",
    "    \n",
    "</div>\n",
    "\n",
    "Submit **Lab7.ipynb** to the **Lab 7 - Natural Language Processing Piepline (Dropbox)** on D2L by the due date. "
   ]
  },
  {
   "cell_type": "markdown",
   "id": "aae12925",
   "metadata": {},
   "source": [
    "<div class=\"alert alert-block alert-info\">\n",
    "\n",
    "# Grading Rubric\n",
    "    \n",
    "</div>\n",
    "\n",
    "|Criterion\t|Excellent\t|Good\t|Average\t|Below Average\t|Poor\t|No Attempt|\n",
    "|:--\t|:--\t|:--\t|:--\t|:-- \t|:--\t|:-- |\n",
    "|**Part 1:** Activity-Question 1.1|\t**10 points**- Completes all aspects of the question correctly\t|**8 points**- Completes most aspects of the question correctly |**6 points**- Completes aspects of the question  correctly, and some incorrectly\t|**4 points**- Completes most aspects of the question  incorrectly or does not attempt many aspects|\t**2 points**- Minimal effort or completes a few aspects of the question or very few correctly|**0 points**- Did not complete the question|\n",
    "|**Part 1:** Activity-Question 1.2|\t**10 points**- Completes all aspects of the question correctly\t|**8 points**- Completes most aspects of the question correctly |**6 points**- Completes aspects of the question  correctly, and some incorrectly\t|**4 points**- Completes most aspects of the question  incorrectly or does not attempt many aspects|\t**2 points**- Minimal effort or completes a few aspects of the question or very few correctly|**0 points**- Did not complete the question|\n",
    "|**Part 1:** Activity-Question 1.3|\t**10 points**- Completes all aspects of the question correctly\t|**8 points**- Completes most aspects of the question correctly |**6 points**- Completes aspects of the question  correctly, and some incorrectly\t|**4 points**- Completes most aspects of the question  incorrectly or does not attempt many aspects|\t**2 points**- Minimal effort or completes a few aspects of the question or very few correctly|**0 points**- Did not complete the question|\n",
    "|**Part 2:** Activity-Question 2.1|\t**10 points**- Completes all aspects of the question correctly\t|**8 points**- Completes most aspects of the question correctly |**6 points**- Completes aspects of the question  correctly, and some incorrectly\t|**4 points**- Completes most aspects of the question  incorrectly or does not attempt many aspects|\t**2 points**- Minimal effort or completes a few aspects of the question or very few correctly|**0 points**- Did not complete the question|\n",
    "|**Part 3:** Activity-Question 3.1|\t**10 points**- Completes all aspects of the question correctly\t|**8 points**- Completes most aspects of the question correctly |**6 points**- Completes aspects of the question  correctly, and some incorrectly\t|**4 points**- Completes most aspects of the question  incorrectly or does not attempt many aspects|\t**2 points**- Minimal effort or completes a few aspects of the question or very few correctly|**0 points**- Did not complete the question|\n",
    "|**Part 3:** Activity-Question 3.2|\t**10 points**- Completes all aspects of the question correctly\t|**8 points**- Completes most aspects of the question correctly |**6 points**- Completes aspects of the question  correctly, and some incorrectly\t|**4 points**- Completes most aspects of the question  incorrectly or does not attempt many aspects|\t**2 points**- Minimal effort or completes a few aspects of the question or very few correctly|**0 points**- Did not complete the question|\n",
    "|**Part 4:** Activity-Question 4.1|\t**10 points**- Completes all aspects of the question correctly\t|**8 points**- Completes most aspects of the question correctly |**6 points**- Completes aspects of the question  correctly, and some incorrectly\t|**4 points**- Completes most aspects of the question  incorrectly or does not attempt many aspects|\t**2 points**- Minimal effort or completes a few aspects of the question or very few correctly|**0 points**- Did not complete the question|\n",
    "|**Part 2:** Reflection|**10 points**- Reflection clearly ties to the module content; experience and importance clearly laid out|**8 points**- Reflection mostly ties to the module content; experience & importance are discussed|**6 points**- Reflection ties minimally to the module content; experience & importance are discussed but not thoroughly|**4 points**- Reflection does not tie to the module content; experience & importance are minimally discussed|**2 points**- Minimal effort to tie to content; minimal effort to describe experience/ importance|**0 points**- Did not complete the reflection"
   ]
  },
  {
   "cell_type": "code",
   "execution_count": null,
   "id": "682e69d2",
   "metadata": {},
   "outputs": [],
   "source": []
  }
 ],
 "metadata": {
  "kernelspec": {
   "display_name": "Python 3 (ipykernel)",
   "language": "python",
   "name": "python3"
  },
  "language_info": {
   "codemirror_mode": {
    "name": "ipython",
    "version": 3
   },
   "file_extension": ".py",
   "mimetype": "text/x-python",
   "name": "python",
   "nbconvert_exporter": "python",
   "pygments_lexer": "ipython3",
   "version": "3.9.12"
  }
 },
 "nbformat": 4,
 "nbformat_minor": 5
}
